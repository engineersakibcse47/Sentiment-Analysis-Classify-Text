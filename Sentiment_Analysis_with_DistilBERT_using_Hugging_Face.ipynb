{
  "cells": [
    {
      "cell_type": "markdown",
      "source": [
        "**Sentiment Analysis with DistilBERT using Hugging Face**\n"
      ],
      "metadata": {
        "id": "KLWEAoz5rzt1"
      },
      "id": "KLWEAoz5rzt1"
    },
    {
      "cell_type": "markdown",
      "source": [
        "#### What is Sentiment Analysis?\n",
        "\n",
        "Sentiment Analysis is the process of ‘computationally’ determining whether a piece of writing is positive, negative or neutral. It’s also known as opinion mining, deriving the opinion or attitude of a speaker."
      ],
      "metadata": {
        "id": "zXlvq7aRsOvE"
      },
      "id": "zXlvq7aRsOvE"
    },
    {
      "cell_type": "markdown",
      "source": [
        "DistilBERT\n",
        "\n",
        "DistilBERT is a smaller, faster and cheaper version of BERT. It has 40% smaller than BERT and runs 60% faster while preserving over 95% of BERT’s performance.\n",
        "\n",
        "What is DistilBERT: DistilBERT, short for \"Distill and BERT,\" is a compact version of the renowned BERT (Bidirectional Encoder Representations from Transformers) model.\n",
        "\n",
        "Model Architecture: It reduces the number of layers and attention heads, resulting in a smaller and faster model.\n",
        "\n",
        "Parameter Reduction: One of DistilBERT's key features is its parameter reduction strategy, achieved by distillation. This involves training the model on a combination of teacher (BERT) and student (DistilBERT).\n",
        "\n",
        "Efficiency and Speed: By reducing the model's size and complexity, DistilBERT achieves a significant speedup during both training and inference."
      ],
      "metadata": {
        "id": "LfWXz37VsbJd"
      },
      "id": "LfWXz37VsbJd"
    },
    {
      "cell_type": "code",
      "execution_count": 1,
      "id": "a0da4106",
      "metadata": {
        "id": "a0da4106"
      },
      "outputs": [],
      "source": [
        "import numpy as np\n",
        "import pandas as pd\n",
        "import re\n",
        "import matplotlib.pyplot as plt"
      ]
    },
    {
      "cell_type": "code",
      "execution_count": 2,
      "id": "1885f9ff",
      "metadata": {
        "colab": {
          "base_uri": "https://localhost:8080/",
          "height": 206
        },
        "id": "1885f9ff",
        "outputId": "66b8e03c-da83-4314-86ec-bce69fd78c04"
      },
      "outputs": [
        {
          "output_type": "execute_result",
          "data": {
            "text/plain": [
              "                                                  review sentiment\n",
              "47758  As you all may know, JIGSAW did not make its w...  negative\n",
              "19842  This love story between an American journalist...  negative\n",
              "41593  Batman Returns is more Gothic and somber than ...  positive\n",
              "5298   ***SPOILERS*** ***SPOILERS*** Juggernaut is a ...  negative\n",
              "4263   Hitchcock made at least 11 films about the ord...  positive"
            ],
            "text/html": [
              "\n",
              "  <div id=\"df-ecd28b3b-f99d-454e-878c-e68d27113b70\" class=\"colab-df-container\">\n",
              "    <div>\n",
              "<style scoped>\n",
              "    .dataframe tbody tr th:only-of-type {\n",
              "        vertical-align: middle;\n",
              "    }\n",
              "\n",
              "    .dataframe tbody tr th {\n",
              "        vertical-align: top;\n",
              "    }\n",
              "\n",
              "    .dataframe thead th {\n",
              "        text-align: right;\n",
              "    }\n",
              "</style>\n",
              "<table border=\"1\" class=\"dataframe\">\n",
              "  <thead>\n",
              "    <tr style=\"text-align: right;\">\n",
              "      <th></th>\n",
              "      <th>review</th>\n",
              "      <th>sentiment</th>\n",
              "    </tr>\n",
              "  </thead>\n",
              "  <tbody>\n",
              "    <tr>\n",
              "      <th>47758</th>\n",
              "      <td>As you all may know, JIGSAW did not make its w...</td>\n",
              "      <td>negative</td>\n",
              "    </tr>\n",
              "    <tr>\n",
              "      <th>19842</th>\n",
              "      <td>This love story between an American journalist...</td>\n",
              "      <td>negative</td>\n",
              "    </tr>\n",
              "    <tr>\n",
              "      <th>41593</th>\n",
              "      <td>Batman Returns is more Gothic and somber than ...</td>\n",
              "      <td>positive</td>\n",
              "    </tr>\n",
              "    <tr>\n",
              "      <th>5298</th>\n",
              "      <td>***SPOILERS*** ***SPOILERS*** Juggernaut is a ...</td>\n",
              "      <td>negative</td>\n",
              "    </tr>\n",
              "    <tr>\n",
              "      <th>4263</th>\n",
              "      <td>Hitchcock made at least 11 films about the ord...</td>\n",
              "      <td>positive</td>\n",
              "    </tr>\n",
              "  </tbody>\n",
              "</table>\n",
              "</div>\n",
              "    <div class=\"colab-df-buttons\">\n",
              "\n",
              "  <div class=\"colab-df-container\">\n",
              "    <button class=\"colab-df-convert\" onclick=\"convertToInteractive('df-ecd28b3b-f99d-454e-878c-e68d27113b70')\"\n",
              "            title=\"Convert this dataframe to an interactive table.\"\n",
              "            style=\"display:none;\">\n",
              "\n",
              "  <svg xmlns=\"http://www.w3.org/2000/svg\" height=\"24px\" viewBox=\"0 -960 960 960\">\n",
              "    <path d=\"M120-120v-720h720v720H120Zm60-500h600v-160H180v160Zm220 220h160v-160H400v160Zm0 220h160v-160H400v160ZM180-400h160v-160H180v160Zm440 0h160v-160H620v160ZM180-180h160v-160H180v160Zm440 0h160v-160H620v160Z\"/>\n",
              "  </svg>\n",
              "    </button>\n",
              "\n",
              "  <style>\n",
              "    .colab-df-container {\n",
              "      display:flex;\n",
              "      gap: 12px;\n",
              "    }\n",
              "\n",
              "    .colab-df-convert {\n",
              "      background-color: #E8F0FE;\n",
              "      border: none;\n",
              "      border-radius: 50%;\n",
              "      cursor: pointer;\n",
              "      display: none;\n",
              "      fill: #1967D2;\n",
              "      height: 32px;\n",
              "      padding: 0 0 0 0;\n",
              "      width: 32px;\n",
              "    }\n",
              "\n",
              "    .colab-df-convert:hover {\n",
              "      background-color: #E2EBFA;\n",
              "      box-shadow: 0px 1px 2px rgba(60, 64, 67, 0.3), 0px 1px 3px 1px rgba(60, 64, 67, 0.15);\n",
              "      fill: #174EA6;\n",
              "    }\n",
              "\n",
              "    .colab-df-buttons div {\n",
              "      margin-bottom: 4px;\n",
              "    }\n",
              "\n",
              "    [theme=dark] .colab-df-convert {\n",
              "      background-color: #3B4455;\n",
              "      fill: #D2E3FC;\n",
              "    }\n",
              "\n",
              "    [theme=dark] .colab-df-convert:hover {\n",
              "      background-color: #434B5C;\n",
              "      box-shadow: 0px 1px 3px 1px rgba(0, 0, 0, 0.15);\n",
              "      filter: drop-shadow(0px 1px 2px rgba(0, 0, 0, 0.3));\n",
              "      fill: #FFFFFF;\n",
              "    }\n",
              "  </style>\n",
              "\n",
              "    <script>\n",
              "      const buttonEl =\n",
              "        document.querySelector('#df-ecd28b3b-f99d-454e-878c-e68d27113b70 button.colab-df-convert');\n",
              "      buttonEl.style.display =\n",
              "        google.colab.kernel.accessAllowed ? 'block' : 'none';\n",
              "\n",
              "      async function convertToInteractive(key) {\n",
              "        const element = document.querySelector('#df-ecd28b3b-f99d-454e-878c-e68d27113b70');\n",
              "        const dataTable =\n",
              "          await google.colab.kernel.invokeFunction('convertToInteractive',\n",
              "                                                    [key], {});\n",
              "        if (!dataTable) return;\n",
              "\n",
              "        const docLinkHtml = 'Like what you see? Visit the ' +\n",
              "          '<a target=\"_blank\" href=https://colab.research.google.com/notebooks/data_table.ipynb>data table notebook</a>'\n",
              "          + ' to learn more about interactive tables.';\n",
              "        element.innerHTML = '';\n",
              "        dataTable['output_type'] = 'display_data';\n",
              "        await google.colab.output.renderOutput(dataTable, element);\n",
              "        const docLink = document.createElement('div');\n",
              "        docLink.innerHTML = docLinkHtml;\n",
              "        element.appendChild(docLink);\n",
              "      }\n",
              "    </script>\n",
              "  </div>\n",
              "\n",
              "\n",
              "<div id=\"df-e36e1e73-bd5b-45e4-9d4c-c3f8ea511c6e\">\n",
              "  <button class=\"colab-df-quickchart\" onclick=\"quickchart('df-e36e1e73-bd5b-45e4-9d4c-c3f8ea511c6e')\"\n",
              "            title=\"Suggest charts\"\n",
              "            style=\"display:none;\">\n",
              "\n",
              "<svg xmlns=\"http://www.w3.org/2000/svg\" height=\"24px\"viewBox=\"0 0 24 24\"\n",
              "     width=\"24px\">\n",
              "    <g>\n",
              "        <path d=\"M19 3H5c-1.1 0-2 .9-2 2v14c0 1.1.9 2 2 2h14c1.1 0 2-.9 2-2V5c0-1.1-.9-2-2-2zM9 17H7v-7h2v7zm4 0h-2V7h2v10zm4 0h-2v-4h2v4z\"/>\n",
              "    </g>\n",
              "</svg>\n",
              "  </button>\n",
              "\n",
              "<style>\n",
              "  .colab-df-quickchart {\n",
              "      --bg-color: #E8F0FE;\n",
              "      --fill-color: #1967D2;\n",
              "      --hover-bg-color: #E2EBFA;\n",
              "      --hover-fill-color: #174EA6;\n",
              "      --disabled-fill-color: #AAA;\n",
              "      --disabled-bg-color: #DDD;\n",
              "  }\n",
              "\n",
              "  [theme=dark] .colab-df-quickchart {\n",
              "      --bg-color: #3B4455;\n",
              "      --fill-color: #D2E3FC;\n",
              "      --hover-bg-color: #434B5C;\n",
              "      --hover-fill-color: #FFFFFF;\n",
              "      --disabled-bg-color: #3B4455;\n",
              "      --disabled-fill-color: #666;\n",
              "  }\n",
              "\n",
              "  .colab-df-quickchart {\n",
              "    background-color: var(--bg-color);\n",
              "    border: none;\n",
              "    border-radius: 50%;\n",
              "    cursor: pointer;\n",
              "    display: none;\n",
              "    fill: var(--fill-color);\n",
              "    height: 32px;\n",
              "    padding: 0;\n",
              "    width: 32px;\n",
              "  }\n",
              "\n",
              "  .colab-df-quickchart:hover {\n",
              "    background-color: var(--hover-bg-color);\n",
              "    box-shadow: 0 1px 2px rgba(60, 64, 67, 0.3), 0 1px 3px 1px rgba(60, 64, 67, 0.15);\n",
              "    fill: var(--button-hover-fill-color);\n",
              "  }\n",
              "\n",
              "  .colab-df-quickchart-complete:disabled,\n",
              "  .colab-df-quickchart-complete:disabled:hover {\n",
              "    background-color: var(--disabled-bg-color);\n",
              "    fill: var(--disabled-fill-color);\n",
              "    box-shadow: none;\n",
              "  }\n",
              "\n",
              "  .colab-df-spinner {\n",
              "    border: 2px solid var(--fill-color);\n",
              "    border-color: transparent;\n",
              "    border-bottom-color: var(--fill-color);\n",
              "    animation:\n",
              "      spin 1s steps(1) infinite;\n",
              "  }\n",
              "\n",
              "  @keyframes spin {\n",
              "    0% {\n",
              "      border-color: transparent;\n",
              "      border-bottom-color: var(--fill-color);\n",
              "      border-left-color: var(--fill-color);\n",
              "    }\n",
              "    20% {\n",
              "      border-color: transparent;\n",
              "      border-left-color: var(--fill-color);\n",
              "      border-top-color: var(--fill-color);\n",
              "    }\n",
              "    30% {\n",
              "      border-color: transparent;\n",
              "      border-left-color: var(--fill-color);\n",
              "      border-top-color: var(--fill-color);\n",
              "      border-right-color: var(--fill-color);\n",
              "    }\n",
              "    40% {\n",
              "      border-color: transparent;\n",
              "      border-right-color: var(--fill-color);\n",
              "      border-top-color: var(--fill-color);\n",
              "    }\n",
              "    60% {\n",
              "      border-color: transparent;\n",
              "      border-right-color: var(--fill-color);\n",
              "    }\n",
              "    80% {\n",
              "      border-color: transparent;\n",
              "      border-right-color: var(--fill-color);\n",
              "      border-bottom-color: var(--fill-color);\n",
              "    }\n",
              "    90% {\n",
              "      border-color: transparent;\n",
              "      border-bottom-color: var(--fill-color);\n",
              "    }\n",
              "  }\n",
              "</style>\n",
              "\n",
              "  <script>\n",
              "    async function quickchart(key) {\n",
              "      const quickchartButtonEl =\n",
              "        document.querySelector('#' + key + ' button');\n",
              "      quickchartButtonEl.disabled = true;  // To prevent multiple clicks.\n",
              "      quickchartButtonEl.classList.add('colab-df-spinner');\n",
              "      try {\n",
              "        const charts = await google.colab.kernel.invokeFunction(\n",
              "            'suggestCharts', [key], {});\n",
              "      } catch (error) {\n",
              "        console.error('Error during call to suggestCharts:', error);\n",
              "      }\n",
              "      quickchartButtonEl.classList.remove('colab-df-spinner');\n",
              "      quickchartButtonEl.classList.add('colab-df-quickchart-complete');\n",
              "    }\n",
              "    (() => {\n",
              "      let quickchartButtonEl =\n",
              "        document.querySelector('#df-e36e1e73-bd5b-45e4-9d4c-c3f8ea511c6e button');\n",
              "      quickchartButtonEl.style.display =\n",
              "        google.colab.kernel.accessAllowed ? 'block' : 'none';\n",
              "    })();\n",
              "  </script>\n",
              "</div>\n",
              "    </div>\n",
              "  </div>\n"
            ],
            "application/vnd.google.colaboratory.intrinsic+json": {
              "type": "dataframe",
              "variable_name": "df",
              "summary": "{\n  \"name\": \"df\",\n  \"rows\": 10000,\n  \"fields\": [\n    {\n      \"column\": \"review\",\n      \"properties\": {\n        \"dtype\": \"string\",\n        \"num_unique_values\": 9983,\n        \"samples\": [\n          \"This movie is a cinematic collage of gangster clich\\u00e9s. The writing is grade z and the plot and story are constructed without care or logic. It a messy pastiche of stereotypical gangsters (think of Bugs Bunny cartoons) and silly supporting characters (the lady doctor and the writer). There are much better Bogart films out there. In fact, Bogart looks like he slept through this performance. He puts very little effort into this character. I think the directorial advice he received was something like \\\"He's a bad guy. Act bad\\\". This guy is the era's equivalent of Darth Vader; obvious, evil and the anti-hero. Don't waste your time with this one.\",\n          \"Sorry for any spoilers that this contains. But if you want to read on anyway: I really wonder why so many people are so high on Kevin Williamson. Let's just take a quick look at his work as a screenwriter, shall we? There's Scream 1 and 2 (plus the story for the next one), which I think are pretty funny but very overrated. Besides, by making Scream into a franchise, it ceased to become a parody of horror movies and simply became another one. Then there's I Know What You Did Last Summer, which is essentially the same movie again. He co-wrote Halloween: H20, but even he had the sense not to take credit for what he did on that monstrosity. Then comes The Faculty, which I can only say was god-awful. (Lots of fun to make fun of, though). Don't even get me started on the ridiculous, soap-operatic Dawson's Creek, I could rail about how bad that is for hours. So then we get to Teaching Mrs. Tingle. First of all, there are tons of little implausibilities in this one. For example: in most high schools that I know of, the valedictorian is NOT the only one who gets to go to college! This idea that Katie Holmes's character would never go anywhere unless she was valedictorian was absurd. Haven't you ever heard of financial assistance, damn it!? Also, I don't think you get expelled from high school or don't get into college because of cheating on one test. There are a bunch of other ones, but I'll skip to the big one now. The ending really bothered me: they committed a crime, but it was ok because the teacher was a bitch. Great. Do you know how many of my teachers I could kidnap based on that logic? I'm sure the police never took any statements to find out the whole story, either. That sure wouldn't be necessary. Helen Mirren was good, she added some nice flair to a character who (as a previous commenter noted) had NO reason for anything she did. And has anyone else noticed that Katie Holmes absolutely can't act? Her self-righteousness became incredibly annoying. \\\"You wanted me to fail. Blah blah blah.\\\" Her last two scenes with Mrs. Tingle were the worst. The only reason I don't regret losing $8.25 on this disaster is because she got beaten up a bit. No, wait, I do regret losing the money: it wasn't real, and she survived. Mr. Williamson, if you're reading this, you've made the same movie (some violence and/or scary stuff offset by wise-ass kids who make sarcastic jokes and references to other movies) just a FEW too many times now (I count 6 so for, not including Scream 3 and whatever follows it), and I would really appreciate it if you would stop. Otherwise, I might just have to kidnap you and threaten YOU with a crossbow. Ok? :-)\",\n          \"I'm the first to recognize that Chan-wook Park's Thirst is exceptionally well made, but spending over two hours with Tae-joo(OK-vin Kim)is enough for anyone to tolerate for such a length of time. Sang-hyeon(Kang-ho Song)is a priest desiring to volunteer for experimental studies on those willing to subject themselves to rigorous injections concerning a specific virus which kills infectiously. Instead of legitimately dying, Hyeon becomes a vampire, always yearning for the sustenance blood gives for him to fight off an infectious disease which returns causing the symptoms which flat-lined him to begin with(..bumps/sores, and the body vomits blood). Sunlight, as is known in the vampire genre, causes torturous death if exposed to Hyeon for a length of time. Hyeon falls in lust with Tae-joo, the wife of sickly childhood friend Kang-woo(Ha-kyun Shin). Tae-joo was taken in by Mrs. Ra(Hae-sook Kim), regarded as a puppy, and practically used as a domestic animal to be ordered around. Ta-joo is miserable in this situation and begins a torrid affair she instigates with Hyeon, soon manipulating him into perhaps killing Kang-woo by having him believe she's a victim of abuse. Renouncing his priesthood, Hyeon dives headlong into the relationship with Tae-joo, soon a willing participant in killing Kang-woo. This incident, which Tae-woo contributed to(..using a boat, in the middle of a lake, both proceeded to burying him underwater, Tae-woo keeping him Kang-woo from re-surfacing as he attempted to re-enter)will haunt both, as circumstances arise with Kang-woo \\\"missing\\\"(Hyeon got rid of him, where police would not find his corpse). Soon Mrs Ra suffers a stroke(..though, one finger and the ability to blink her eyes contribute mightily as the story progresses, showing that she more aware than they are led to believe), and Hyeon gives Tae-joo a special birthday gift..vampirism. In doing so, Hyeon has created a monster. Tae-joo admits(..though a slip of the tongue)that, in fact, Kang-woo never hurt her, and as she thirsts for blood it is soon realized that killing for a supply doesn't bother her morally or psychologically. Tae-joo becomes such a hand full, Hyeon has to take desperate measures if he is to stop such a menace to society, himself included.<br /><br />I will say that Thirst is one of the best horror films I've seen regarding 2009. It's a methodical approach Park takes and we are led down a dark road with Hyeon and Tae-joo, as they commit terrible deeds with nothing positive ever to come from their unholy union. Innocent people die because of Hyeon's love(..what once was lust shifts into an obsessive love by the end)for Tae-joo, and it will cease to end if he doesn't make a painful choice. We see inside their heads, their souls, and it isn't always pretty. 2 hours with them can be quite exhausting..but, credit to the director for pulling no punches in regards to devious behavior and how the powers of vampirism can be given to the wrong people. Hyeon, seen as a rather pleasant soul at the opening, accepts \\\"hell\\\" for Tae-joo so one could look at Thirst as a unique love story, but not exactly a healthy one.<br /><br />In regards to the violence, while Park does have a tendency to pull away from extremely graphic details, there's enough sadism involved to perhaps turn the stomach a bit. At the very least, the way the violence is carried out may be certain to leave a lasting impact. The sexual situations between Hyeon and Tae-joo can be pretty heated and erotic, while also sordid and morally reprehensible. The movie, I think, is still quite a complex examination of the lengths one will go to remain attached to an object of affection(lust).\"\n        ],\n        \"semantic_type\": \"\",\n        \"description\": \"\"\n      }\n    },\n    {\n      \"column\": \"sentiment\",\n      \"properties\": {\n        \"dtype\": \"category\",\n        \"num_unique_values\": 2,\n        \"samples\": [\n          \"positive\",\n          \"negative\"\n        ],\n        \"semantic_type\": \"\",\n        \"description\": \"\"\n      }\n    }\n  ]\n}"
            }
          },
          "metadata": {},
          "execution_count": 2
        }
      ],
      "source": [
        "df = pd.read_csv(\"https://raw.githubusercontent.com/laxmimerit/All-CSV-ML-Data-Files-Download/master/IMDB-Dataset.csv\")\n",
        "df = df.sample(10_000)\n",
        "df.head()"
      ]
    },
    {
      "cell_type": "markdown",
      "id": "f7fec413",
      "metadata": {
        "id": "f7fec413"
      },
      "source": [
        "### Data Preprocessing"
      ]
    },
    {
      "cell_type": "code",
      "execution_count": 3,
      "id": "c438075d",
      "metadata": {
        "id": "c438075d"
      },
      "outputs": [],
      "source": [
        "# Define a function\n",
        "def preprocess_text(review):\n",
        "    # Remove HTML tags\n",
        "    review = re.sub(r'<.*?>', '', review)\n",
        "    # Remove special characters and numbers\n",
        "    review = re.sub(r'[^a-zA-Z\\s]', '', review)\n",
        "    return review"
      ]
    },
    {
      "cell_type": "code",
      "execution_count": 4,
      "id": "b026ecef",
      "metadata": {
        "id": "b026ecef"
      },
      "outputs": [],
      "source": [
        "# Apply preprocessing to each text in the dataframe\n",
        "df['review'] = df['review'].apply(preprocess_text)"
      ]
    },
    {
      "cell_type": "markdown",
      "id": "e01a99ee",
      "metadata": {
        "id": "e01a99ee"
      },
      "source": [
        "### Creating Torch Dataset for Model\n",
        "##### custom dataset -> evaluation/compute metrics -> training arguments -> trainer -> training -> testing"
      ]
    },
    {
      "cell_type": "code",
      "execution_count": 6,
      "id": "ac2e7c21",
      "metadata": {
        "id": "ac2e7c21"
      },
      "outputs": [],
      "source": [
        "import torch\n",
        "from torch.utils.data import Dataset"
      ]
    },
    {
      "cell_type": "code",
      "execution_count": 7,
      "id": "376061e4",
      "metadata": {
        "id": "376061e4"
      },
      "outputs": [],
      "source": [
        "class CustomDataset(Dataset):\n",
        "\n",
        "    def __init__(self, texts, labels, tokenizer, max_len=512):\n",
        "        self.texts = texts\n",
        "        self.labels = labels\n",
        "        self.tokenizer = tokenizer\n",
        "        self.max_len = max_len\n",
        "\n",
        "    def __len__(self):\n",
        "        return len(self.texts)\n",
        "\n",
        "    def __getitem__(self, idx):\n",
        "\n",
        "        text = str(self.texts[idx])\n",
        "        label = torch.tensor(self.labels[idx])\n",
        "\n",
        "        encoding = self.tokenizer(text, truncation=True, padding=\"max_length\",\n",
        "                                  max_length=self.max_len)\n",
        "\n",
        "        return {\n",
        "            'input_ids': encoding['input_ids'],\n",
        "            'attention_mask': encoding['attention_mask'],\n",
        "            'labels': label\n",
        "        }"
      ]
    },
    {
      "cell_type": "markdown",
      "source": [
        "### Prepare Tokenizer and Model"
      ],
      "metadata": {
        "id": "tCkPGH6srNkQ"
      },
      "id": "tCkPGH6srNkQ"
    },
    {
      "cell_type": "code",
      "execution_count": 8,
      "id": "2441fe19",
      "metadata": {
        "id": "2441fe19",
        "colab": {
          "base_uri": "https://localhost:8080/"
        },
        "outputId": "ca4aadfd-2c8b-42fa-a8aa-7e79e4404976"
      },
      "outputs": [
        {
          "output_type": "stream",
          "name": "stderr",
          "text": [
            "/usr/local/lib/python3.10/dist-packages/huggingface_hub/utils/_token.py:88: UserWarning: \n",
            "The secret `HF_TOKEN` does not exist in your Colab secrets.\n",
            "To authenticate with the Hugging Face Hub, create a token in your settings tab (https://huggingface.co/settings/tokens), set it as secret in your Google Colab and restart your session.\n",
            "You will be able to reuse this secret in all of your notebooks.\n",
            "Please note that authentication is recommended but still optional to access public models or datasets.\n",
            "  warnings.warn(\n",
            "Some weights of DistilBertForSequenceClassification were not initialized from the model checkpoint at distilbert-base-uncased and are newly initialized: ['classifier.bias', 'classifier.weight', 'pre_classifier.bias', 'pre_classifier.weight']\n",
            "You should probably TRAIN this model on a down-stream task to be able to use it for predictions and inference.\n"
          ]
        }
      ],
      "source": [
        "from transformers import AutoTokenizer, AutoModelForSequenceClassification\n",
        "\n",
        "checkpoint = 'distilbert-base-uncased'\n",
        "device = \"cuda\"\n",
        "\n",
        "tokenizer = AutoTokenizer.from_pretrained(checkpoint)\n",
        "model = AutoModelForSequenceClassification.from_pretrained(checkpoint, num_labels=2).to(device)"
      ]
    },
    {
      "cell_type": "code",
      "execution_count": 9,
      "id": "ac8dcfea",
      "metadata": {
        "id": "ac8dcfea"
      },
      "outputs": [],
      "source": [
        "X = df['review'].tolist()\n",
        "\n",
        "label2id = {'positive': 1, 'negative': 0}\n",
        "id2label = {1: 'positive', 0: 'negative'}\n",
        "\n",
        "y = df['sentiment'].map(label2id).tolist()\n",
        "\n",
        "data = CustomDataset(X, y, tokenizer)"
      ]
    },
    {
      "cell_type": "code",
      "execution_count": 10,
      "id": "8c0b57d3",
      "metadata": {
        "id": "8c0b57d3",
        "colab": {
          "base_uri": "https://localhost:8080/"
        },
        "outputId": "839d9015-bf4b-47ff-b5b3-d2e83987c9c1"
      },
      "outputs": [
        {
          "output_type": "execute_result",
          "data": {
            "text/plain": [
              "dict_keys(['input_ids', 'attention_mask', 'labels'])"
            ]
          },
          "metadata": {},
          "execution_count": 10
        }
      ],
      "source": [
        "data[0].keys()"
      ]
    },
    {
      "cell_type": "markdown",
      "source": [
        "### Train Test Split"
      ],
      "metadata": {
        "id": "jRcujgtfrEAL"
      },
      "id": "jRcujgtfrEAL"
    },
    {
      "cell_type": "code",
      "source": [
        "from sklearn.model_selection import train_test_split"
      ],
      "metadata": {
        "id": "jzmpnA24rtMG"
      },
      "id": "jzmpnA24rtMG",
      "execution_count": null,
      "outputs": []
    },
    {
      "cell_type": "code",
      "execution_count": 11,
      "id": "ee26dbe2",
      "metadata": {
        "id": "ee26dbe2"
      },
      "outputs": [],
      "source": [
        "train_dataset, test_dataset = train_test_split(data, test_size=0.2, random_state=42)"
      ]
    },
    {
      "cell_type": "markdown",
      "source": [
        "### Function for Evaluation"
      ],
      "metadata": {
        "id": "Jk5tTshpqt1J"
      },
      "id": "Jk5tTshpqt1J"
    },
    {
      "cell_type": "code",
      "execution_count": 12,
      "id": "c93d0a79",
      "metadata": {
        "id": "c93d0a79"
      },
      "outputs": [],
      "source": [
        "from sklearn.metrics import accuracy_score, f1_score\n",
        "\n",
        "def compute_metrics(example):\n",
        "\n",
        "    labels = example.label_ids\n",
        "    preds = example.predictions.argmax(-1)\n",
        "\n",
        "    f1 = f1_score(labels, preds, average=\"weighted\")\n",
        "    acc = accuracy_score(labels, preds)\n",
        "\n",
        "    return {'accuracy': acc, \"f1\": f1}"
      ]
    },
    {
      "cell_type": "markdown",
      "source": [
        "### Build Model"
      ],
      "metadata": {
        "id": "m44h0oOaq1dP"
      },
      "id": "m44h0oOaq1dP"
    },
    {
      "cell_type": "code",
      "execution_count": 13,
      "id": "9bc6e244",
      "metadata": {
        "id": "9bc6e244"
      },
      "outputs": [],
      "source": [
        "from transformers import Trainer, TrainingArguments"
      ]
    },
    {
      "cell_type": "code",
      "execution_count": 25,
      "id": "bdc319cb",
      "metadata": {
        "id": "bdc319cb"
      },
      "outputs": [],
      "source": [
        "batch_size = 16\n",
        "\n",
        "args = TrainingArguments(\n",
        "    output_dir = \"output\",\n",
        "    per_device_train_batch_size=batch_size,\n",
        "    per_device_eval_batch_size = batch_size,\n",
        "    learning_rate = 2e-5,\n",
        "    num_train_epochs = 3,\n",
        "    evaluation_strategy = 'epoch'\n",
        ")"
      ]
    },
    {
      "cell_type": "code",
      "execution_count": 26,
      "id": "8b9d0a60",
      "metadata": {
        "id": "8b9d0a60"
      },
      "outputs": [],
      "source": [
        "trainer = Trainer(model=model,\n",
        "                  args=args,\n",
        "                  train_dataset = train_dataset,\n",
        "                  eval_dataset = test_dataset,\n",
        "                  compute_metrics=compute_metrics,\n",
        "                  tokenizer = tokenizer\n",
        "\n",
        ")"
      ]
    },
    {
      "cell_type": "code",
      "execution_count": 27,
      "id": "b17d212c-4bb5-40c4-8ccd-239b485cec8d",
      "metadata": {
        "id": "b17d212c-4bb5-40c4-8ccd-239b485cec8d",
        "colab": {
          "base_uri": "https://localhost:8080/",
          "height": 223
        },
        "outputId": "b9f3f913-9a42-4b66-8586-3119e83d88f1"
      },
      "outputs": [
        {
          "output_type": "display_data",
          "data": {
            "text/plain": [
              "<IPython.core.display.HTML object>"
            ],
            "text/html": [
              "\n",
              "    <div>\n",
              "      \n",
              "      <progress value='1500' max='1500' style='width:300px; height:20px; vertical-align: middle;'></progress>\n",
              "      [1500/1500 19:33, Epoch 3/3]\n",
              "    </div>\n",
              "    <table border=\"1\" class=\"dataframe\">\n",
              "  <thead>\n",
              " <tr style=\"text-align: left;\">\n",
              "      <th>Epoch</th>\n",
              "      <th>Training Loss</th>\n",
              "      <th>Validation Loss</th>\n",
              "      <th>Accuracy</th>\n",
              "      <th>F1</th>\n",
              "    </tr>\n",
              "  </thead>\n",
              "  <tbody>\n",
              "    <tr>\n",
              "      <td>1</td>\n",
              "      <td>0.335000</td>\n",
              "      <td>0.239815</td>\n",
              "      <td>0.904000</td>\n",
              "      <td>0.903827</td>\n",
              "    </tr>\n",
              "    <tr>\n",
              "      <td>2</td>\n",
              "      <td>0.175500</td>\n",
              "      <td>0.259968</td>\n",
              "      <td>0.915500</td>\n",
              "      <td>0.915499</td>\n",
              "    </tr>\n",
              "    <tr>\n",
              "      <td>3</td>\n",
              "      <td>0.102700</td>\n",
              "      <td>0.305195</td>\n",
              "      <td>0.919500</td>\n",
              "      <td>0.919500</td>\n",
              "    </tr>\n",
              "  </tbody>\n",
              "</table><p>"
            ]
          },
          "metadata": {}
        },
        {
          "output_type": "execute_result",
          "data": {
            "text/plain": [
              "TrainOutput(global_step=1500, training_loss=0.20442059580485025, metrics={'train_runtime': 1175.254, 'train_samples_per_second': 20.421, 'train_steps_per_second': 1.276, 'total_flos': 3179217567744000.0, 'train_loss': 0.20442059580485025, 'epoch': 3.0})"
            ]
          },
          "metadata": {},
          "execution_count": 27
        }
      ],
      "source": [
        "trainer.train()"
      ]
    },
    {
      "cell_type": "markdown",
      "source": [
        "### Saved Model"
      ],
      "metadata": {
        "id": "6vjGcS5SqTGY"
      },
      "id": "6vjGcS5SqTGY"
    },
    {
      "cell_type": "code",
      "execution_count": 28,
      "id": "jo4CqV2O987X",
      "metadata": {
        "id": "jo4CqV2O987X"
      },
      "outputs": [],
      "source": [
        "model_name= \"distilbert_finetuned_setiment\""
      ]
    },
    {
      "cell_type": "code",
      "execution_count": 29,
      "id": "62ybHX-X99EO",
      "metadata": {
        "id": "62ybHX-X99EO"
      },
      "outputs": [],
      "source": [
        "trainer.save_model(model_name)\n"
      ]
    },
    {
      "cell_type": "markdown",
      "source": [
        "### Interface"
      ],
      "metadata": {
        "id": "vTDFtrrMqZBy"
      },
      "id": "vTDFtrrMqZBy"
    },
    {
      "cell_type": "code",
      "execution_count": 30,
      "id": "74n6aE7aVYiE",
      "metadata": {
        "id": "74n6aE7aVYiE",
        "colab": {
          "base_uri": "https://localhost:8080/"
        },
        "outputId": "6a03e8b2-2624-4030-860d-9bd83f71174d"
      },
      "outputs": [
        {
          "output_type": "execute_result",
          "data": {
            "text/plain": [
              "[{'label': 'LABEL_1', 'score': 0.9907051920890808}]"
            ]
          },
          "metadata": {},
          "execution_count": 30
        }
      ],
      "source": [
        "from transformers import pipeline\n",
        "\n",
        "text = \"i love this product\"\n",
        "pipe = pipeline('text-classification', model_name)\n",
        "pipe(text)\n"
      ]
    },
    {
      "cell_type": "code",
      "execution_count": 31,
      "id": "lyLGICvAVYk7",
      "metadata": {
        "id": "lyLGICvAVYk7",
        "colab": {
          "base_uri": "https://localhost:8080/"
        },
        "outputId": "2c41de37-80c0-46c9-9719-550082efdb6f"
      },
      "outputs": [
        {
          "output_type": "execute_result",
          "data": {
            "text/plain": [
              "{1: 'positive', 0: 'negative'}"
            ]
          },
          "metadata": {},
          "execution_count": 31
        }
      ],
      "source": [
        "id2label"
      ]
    },
    {
      "cell_type": "code",
      "execution_count": 32,
      "id": "gqI42jvCVYoh",
      "metadata": {
        "id": "gqI42jvCVYoh"
      },
      "outputs": [],
      "source": [
        "tok = AutoTokenizer.from_pretrained(model_name)\n",
        "mod = AutoModelForSequenceClassification.from_pretrained(model_name)"
      ]
    },
    {
      "cell_type": "code",
      "execution_count": 33,
      "id": "CdCJUyDZ99Hd",
      "metadata": {
        "id": "CdCJUyDZ99Hd"
      },
      "outputs": [],
      "source": [
        "def get_prediction(text):\n",
        "  input_ids = tok.encode(text, return_tensors='pt')\n",
        "  output = mod(input_ids)\n",
        "\n",
        "  preds = torch.nn.functional.softmax(output.logits, dim=-1)\n",
        "\n",
        "  prob = torch.max(preds).item()\n",
        "\n",
        "  idx = torch.argmax(preds).item()\n",
        "  sentiment = id2label[idx]\n",
        "\n",
        "  return {'sentiment':sentiment, 'prob':prob}"
      ]
    },
    {
      "cell_type": "code",
      "execution_count": 34,
      "id": "Cal9YJTvVrYa",
      "metadata": {
        "id": "Cal9YJTvVrYa",
        "colab": {
          "base_uri": "https://localhost:8080/"
        },
        "outputId": "55062438-0bdb-46fa-e8e5-f7e08dffb76a"
      },
      "outputs": [
        {
          "output_type": "execute_result",
          "data": {
            "text/plain": [
              "{'sentiment': 'positive', 'prob': 0.9918524622917175}"
            ]
          },
          "metadata": {},
          "execution_count": 34
        }
      ],
      "source": [
        "text = \"I bought a mobile. Mobile is awesome, with its cool design, fast performance, great camera, and long battery life, it's way better than expected.\"\n",
        "get_prediction(text)"
      ]
    },
    {
      "cell_type": "markdown",
      "source": [
        "### The End"
      ],
      "metadata": {
        "id": "KsMRT_AtqLqW"
      },
      "id": "KsMRT_AtqLqW"
    }
  ],
  "metadata": {
    "accelerator": "GPU",
    "colab": {
      "gpuType": "T4",
      "provenance": []
    },
    "kernelspec": {
      "display_name": "Python 3",
      "name": "python3"
    },
    "language_info": {
      "codemirror_mode": {
        "name": "ipython",
        "version": 3
      },
      "file_extension": ".py",
      "mimetype": "text/x-python",
      "name": "python",
      "nbconvert_exporter": "python",
      "pygments_lexer": "ipython3",
      "version": "3.10.0"
    }
  },
  "nbformat": 4,
  "nbformat_minor": 5
}